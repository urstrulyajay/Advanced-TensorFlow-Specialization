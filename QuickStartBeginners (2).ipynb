{
  "nbformat": 4,
  "nbformat_minor": 0,
  "metadata": {
    "colab": {
      "name": "QuickStartBeginners.ipynb",
      "provenance": []
    },
    "kernelspec": {
      "name": "python3",
      "display_name": "Python 3"
    },
    "language_info": {
      "name": "python"
    }
  },
  "cells": [
    {
      "cell_type": "code",
      "metadata": {
        "id": "EUz_4wF7vgyi"
      },
      "source": [
        "import tensorflow as tf"
      ],
      "execution_count": 1,
      "outputs": []
    },
    {
      "cell_type": "code",
      "metadata": {
        "colab": {
          "base_uri": "https://localhost:8080/"
        },
        "id": "MqBiwsNuzbOh",
        "outputId": "6d7174c0-d575-4f80-83a3-4b1a54d2c69a"
      },
      "source": [
        "mnist = tf.keras.datasets.mnist\n",
        "\n",
        "(x_train,y_train),(x_test,y_test) = mnist.load_data()\n",
        "x_train,x_test = x_train/255.0, x_test/255.0"
      ],
      "execution_count": 2,
      "outputs": [
        {
          "output_type": "stream",
          "text": [
            "Downloading data from https://storage.googleapis.com/tensorflow/tf-keras-datasets/mnist.npz\n",
            "11493376/11490434 [==============================] - 0s 0us/step\n"
          ],
          "name": "stdout"
        }
      ]
    },
    {
      "cell_type": "code",
      "metadata": {
        "id": "cpJxyTVMzqiP"
      },
      "source": [
        "model = tf.keras.Sequential([\n",
        "    tf.keras.layers.Flatten(input_shape=(28,28)),\n",
        "    tf.keras.layers.Dense(128,activation='relu'),\n",
        "    tf.keras.layers.Dropout(0.2),\n",
        "    tf.keras.layers.Dense(10)\n",
        "])"
      ],
      "execution_count": 3,
      "outputs": []
    },
    {
      "cell_type": "code",
      "metadata": {
        "colab": {
          "base_uri": "https://localhost:8080/"
        },
        "id": "zCIeKfDj0ezP",
        "outputId": "8f632743-d338-49cb-ac98-d97ba052abfc"
      },
      "source": [
        "predictions = model(x_train[:1]).numpy()\n",
        "predictions"
      ],
      "execution_count": 4,
      "outputs": [
        {
          "output_type": "execute_result",
          "data": {
            "text/plain": [
              "array([[ 0.02538981,  0.26798335, -0.49703294, -0.09059842, -0.37187347,\n",
              "         0.01851152,  0.17230862, -1.0127962 , -0.05784771,  0.70926696]],\n",
              "      dtype=float32)"
            ]
          },
          "metadata": {
            "tags": []
          },
          "execution_count": 4
        }
      ]
    },
    {
      "cell_type": "code",
      "metadata": {
        "colab": {
          "base_uri": "https://localhost:8080/"
        },
        "id": "VUuAB27q0rhq",
        "outputId": "5ca6e781-2717-48fe-eff5-ecb09e86ecbb"
      },
      "source": [
        "tf.nn.softmax(predictions).numpy()"
      ],
      "execution_count": 5,
      "outputs": [
        {
          "output_type": "execute_result",
          "data": {
            "text/plain": [
              "array([[0.1016523 , 0.129561  , 0.06028815, 0.09051993, 0.06832632,\n",
              "        0.10095551, 0.1177398 , 0.03599472, 0.09353361, 0.20142868]],\n",
              "      dtype=float32)"
            ]
          },
          "metadata": {
            "tags": []
          },
          "execution_count": 5
        }
      ]
    },
    {
      "cell_type": "code",
      "metadata": {
        "id": "1bawulTu0yjn"
      },
      "source": [
        "loss_fn = tf.keras.losses.SparseCategoricalCrossentropy(from_logits=True)"
      ],
      "execution_count": 6,
      "outputs": []
    },
    {
      "cell_type": "code",
      "metadata": {
        "colab": {
          "base_uri": "https://localhost:8080/"
        },
        "id": "484MNnYlRyNK",
        "outputId": "05a4897f-4273-4b9a-8183-cc42281f0324"
      },
      "source": [
        "loss_fn(y_train[:1],predictions).numpy()"
      ],
      "execution_count": 7,
      "outputs": [
        {
          "output_type": "execute_result",
          "data": {
            "text/plain": [
              "2.2930753"
            ]
          },
          "metadata": {
            "tags": []
          },
          "execution_count": 7
        }
      ]
    },
    {
      "cell_type": "code",
      "metadata": {
        "id": "bIzmXErAR7m7"
      },
      "source": [
        "model.compile(optimizer='adam',loss=loss_fn,metrics=['accuracy'])"
      ],
      "execution_count": 8,
      "outputs": []
    },
    {
      "cell_type": "code",
      "metadata": {
        "colab": {
          "base_uri": "https://localhost:8080/"
        },
        "id": "rndrP7egSFBN",
        "outputId": "07651ed5-303f-4778-d9a2-052d5481fe76"
      },
      "source": [
        "model.fit(x_train,y_train,epochs=5)"
      ],
      "execution_count": 9,
      "outputs": [
        {
          "output_type": "stream",
          "text": [
            "Epoch 1/5\n",
            "1875/1875 [==============================] - 5s 2ms/step - loss: 0.2945 - accuracy: 0.9154\n",
            "Epoch 2/5\n",
            "1875/1875 [==============================] - 4s 2ms/step - loss: 0.1431 - accuracy: 0.9577\n",
            "Epoch 3/5\n",
            "1875/1875 [==============================] - 4s 2ms/step - loss: 0.1079 - accuracy: 0.9676\n",
            "Epoch 4/5\n",
            "1875/1875 [==============================] - 5s 2ms/step - loss: 0.0875 - accuracy: 0.9735\n",
            "Epoch 5/5\n",
            "1875/1875 [==============================] - 4s 2ms/step - loss: 0.0751 - accuracy: 0.9764\n"
          ],
          "name": "stdout"
        },
        {
          "output_type": "execute_result",
          "data": {
            "text/plain": [
              "<tensorflow.python.keras.callbacks.History at 0x7f0eabb41090>"
            ]
          },
          "metadata": {
            "tags": []
          },
          "execution_count": 9
        }
      ]
    },
    {
      "cell_type": "code",
      "metadata": {
        "colab": {
          "base_uri": "https://localhost:8080/"
        },
        "id": "t0m2BvTBSI7O",
        "outputId": "52687923-982b-4953-e999-c0dee963a882"
      },
      "source": [
        "model.evaluate(x_test,y_test,verbose=2)"
      ],
      "execution_count": 10,
      "outputs": [
        {
          "output_type": "stream",
          "text": [
            "313/313 - 0s - loss: 0.0795 - accuracy: 0.9749\n"
          ],
          "name": "stdout"
        },
        {
          "output_type": "execute_result",
          "data": {
            "text/plain": [
              "[0.07947935163974762, 0.9749000072479248]"
            ]
          },
          "metadata": {
            "tags": []
          },
          "execution_count": 10
        }
      ]
    },
    {
      "cell_type": "code",
      "metadata": {
        "id": "n6f5l7FGSk3U"
      },
      "source": [
        "probability_Model = tf.keras.Sequential([\n",
        "              model,tf.keras.layers.Softmax()\n",
        "])"
      ],
      "execution_count": 11,
      "outputs": []
    },
    {
      "cell_type": "code",
      "metadata": {
        "colab": {
          "base_uri": "https://localhost:8080/"
        },
        "id": "Q_ZqwG1fTj0_",
        "outputId": "b76ad3fb-bd0a-44e2-a466-1b475d1dfa78"
      },
      "source": [
        "probability_Model(x_test[:5])"
      ],
      "execution_count": 12,
      "outputs": [
        {
          "output_type": "execute_result",
          "data": {
            "text/plain": [
              "<tf.Tensor: shape=(5, 10), dtype=float32, numpy=\n",
              "array([[1.50385677e-08, 2.04000195e-09, 3.61118964e-06, 7.55866640e-05,\n",
              "        3.81258303e-10, 5.79188850e-07, 2.46682210e-12, 9.99914050e-01,\n",
              "        8.89121736e-08, 6.09936296e-06],\n",
              "       [1.42100305e-08, 4.04918130e-04, 9.99589145e-01, 5.62530886e-06,\n",
              "        1.37268965e-14, 4.01274569e-08, 1.38832119e-08, 6.89061709e-13,\n",
              "        1.78734240e-07, 2.55226326e-11],\n",
              "       [3.19104686e-07, 9.96939421e-01, 1.69910796e-04, 5.44776958e-06,\n",
              "        3.50519767e-05, 2.64554001e-06, 1.80728227e-06, 2.60010152e-03,\n",
              "        2.44231429e-04, 1.01547710e-06],\n",
              "       [9.99977589e-01, 1.03954848e-11, 1.06687810e-06, 1.21426302e-09,\n",
              "        5.69972070e-09, 1.73045773e-08, 1.87637725e-05, 2.66701477e-07,\n",
              "        1.21104804e-09, 2.33980018e-06],\n",
              "       [7.94698553e-06, 3.67400389e-07, 9.55880023e-06, 8.48221404e-08,\n",
              "        9.80192482e-01, 3.04671033e-07, 1.93200185e-06, 2.27325127e-05,\n",
              "        1.38658766e-06, 1.97631717e-02]], dtype=float32)>"
            ]
          },
          "metadata": {
            "tags": []
          },
          "execution_count": 12
        }
      ]
    },
    {
      "cell_type": "code",
      "metadata": {
        "id": "8jWy2tD_TpFf"
      },
      "source": [
        ""
      ],
      "execution_count": null,
      "outputs": []
    }
  ]
}