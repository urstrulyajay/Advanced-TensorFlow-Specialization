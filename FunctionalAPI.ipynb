{
  "nbformat": 4,
  "nbformat_minor": 0,
  "metadata": {
    "colab": {
      "name": "FunctionalAPI.ipynb",
      "provenance": []
    },
    "kernelspec": {
      "name": "python3",
      "display_name": "Python 3"
    },
    "language_info": {
      "name": "python"
    }
  },
  "cells": [
    {
      "cell_type": "code",
      "metadata": {
        "id": "GUprDLM96tPj"
      },
      "source": [
        "import tensorflow as tf\n",
        "from tensorflow import keras\n",
        "from keras.models import Sequential\n",
        "from keras.layers import Dense\n",
        "from keras.layers import Flatten\n",
        "import pydot\n",
        "from tensorflow.python.keras.utils.vis_utils import plot_model"
      ],
      "execution_count": 1,
      "outputs": []
    },
    {
      "cell_type": "markdown",
      "metadata": {
        "id": "lhwlvbLJ7vqM"
      },
      "source": [
        "**Sequential Model Exmaple**"
      ]
    },
    {
      "cell_type": "code",
      "metadata": {
        "id": "HCyDJX7w4ADS"
      },
      "source": [
        "def build_model_with_sequential():\n",
        "\n",
        "  seq_model = Sequential(\n",
        "      [Flatten(input_shape=(28,28)),\n",
        "      Dense(128,activation='relu'),\n",
        "      Dense(10,activation='softmax')]\n",
        "  )\n",
        "\n",
        "  return seq_model"
      ],
      "execution_count": 2,
      "outputs": []
    },
    {
      "cell_type": "markdown",
      "metadata": {
        "id": "g2A92eJd721D"
      },
      "source": [
        "**Functional API**"
      ]
    },
    {
      "cell_type": "code",
      "metadata": {
        "id": "YkxUf2mx7tvH"
      },
      "source": [
        "#Define a Input Layer\n",
        "#Define each Layer\n",
        "#Define the model"
      ],
      "execution_count": 3,
      "outputs": []
    },
    {
      "cell_type": "code",
      "metadata": {
        "id": "2Sf5ffk88EIe"
      },
      "source": [
        "from tensorflow.keras.layers import Input\n",
        "from tensorflow.keras.layers import Dense,Flatten\n",
        "from tensorflow.keras.models import Model\n",
        "\n",
        "def build_model_with_functional():\n",
        "  input = Input(shape=(28,28))\n",
        "  x = Flatten()(input)\n",
        "  x = Dense(128,activation='relu')(x)\n",
        "  predictions = Dense(10,activation='softmax')(x)\n",
        "  func_model = Model(inputs=input,outputs=predictions)\n",
        "  return func_model"
      ],
      "execution_count": 4,
      "outputs": []
    },
    {
      "cell_type": "code",
      "metadata": {
        "colab": {
          "base_uri": "https://localhost:8080/",
          "height": 422
        },
        "id": "3p4NsfzY8Nxs",
        "outputId": "aaab52cf-7696-4a73-8a28-a1e818edb88c"
      },
      "source": [
        "model = build_model_with_functional()\n",
        "#model = build_model_with_sequential()\n",
        "\n",
        "#plot model\n",
        "plot_model(model,show_shapes=True,show_layer_names=True,to_file='model.png')"
      ],
      "execution_count": 5,
      "outputs": [
        {
          "output_type": "execute_result",
          "data": {
            "image/png": "[encoded data removed]",
            "text/plain": [
              "<IPython.core.display.Image object>"
            ]
          },
          "metadata": {
            "tags": []
          },
          "execution_count": 5
        }
      ]
    },
    {
      "cell_type": "markdown",
      "metadata": {
        "id": "zPl4bs9U_rPh"
      },
      "source": [
        "**Training the Model**"
      ]
    },
    {
      "cell_type": "code",
      "metadata": {
        "colab": {
          "base_uri": "https://localhost:8080/"
        },
        "id": "AneRWV9_9F3l",
        "outputId": "574485d6-eefd-4643-b5d0-1bde8a08b110"
      },
      "source": [
        "mnist = tf.keras.datasets.fashion_mnist\n",
        "(training_images, training_labels), (test_images, test_labels) = mnist.load_data()\n",
        "training_images = training_images / 255.0\n",
        "test_images = test_images / 255.0\n",
        "\n",
        "model.compile(optimizer=tf.optimizers.Adam(),\n",
        "              loss='sparse_categorical_crossentropy',\n",
        "              metrics=['accuracy'])\n",
        "model.fit(training_images, training_labels, epochs=5)\n",
        "model.evaluate(test_images, test_labels)"
      ],
      "execution_count": 8,
      "outputs": [
        {
          "output_type": "stream",
          "text": [
            "Epoch 1/5\n",
            "1875/1875 [==============================] - 4s 2ms/step - loss: 0.2827 - accuracy: 0.8950\n",
            "Epoch 2/5\n",
            "1875/1875 [==============================] - 3s 2ms/step - loss: 0.2700 - accuracy: 0.8996\n",
            "Epoch 3/5\n",
            "1875/1875 [==============================] - 3s 2ms/step - loss: 0.2583 - accuracy: 0.9045\n",
            "Epoch 4/5\n",
            "1875/1875 [==============================] - 3s 2ms/step - loss: 0.2490 - accuracy: 0.9076\n",
            "Epoch 5/5\n",
            "1875/1875 [==============================] - 3s 2ms/step - loss: 0.2393 - accuracy: 0.9109\n",
            "313/313 [==============================] - 0s 1ms/step - loss: 0.3279 - accuracy: 0.8828\n"
          ],
          "name": "stdout"
        },
        {
          "output_type": "execute_result",
          "data": {
            "text/plain": [
              "[0.3278964161872864, 0.8827999830245972]"
            ]
          },
          "metadata": {
            "tags": []
          },
          "execution_count": 8
        }
      ]
    },
    {
      "cell_type": "code",
      "metadata": {
        "id": "WcfWTDNo_9Tm"
      },
      "source": [
        ""
      ],
      "execution_count": null,
      "outputs": []
    }
  ]
}